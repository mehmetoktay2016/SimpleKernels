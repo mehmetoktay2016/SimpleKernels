{
 "cells": [
  {
   "cell_type": "markdown",
   "metadata": {},
   "source": [
    "# Figure 5\n",
    "\n",
    "In this tutorial, we explain the experimental setup of Figure 5 for Phoneme dataset. Here, we also provide  feature map  $ \\phi_{p,2}(\\mathbf{x}_i~|~\\mathbf{a}^{(1)}_i,\\mathbf{a}_i^{(2)})$ that increases the dimension of the input data by two and elaborate the anchor point selection."
   ]
  },
  {
   "cell_type": "code",
   "execution_count": 1,
   "metadata": {},
   "outputs": [],
   "source": [
    "from sklearn.metrics import accuracy_score\n",
    "from sklearn.svm import LinearSVC\n",
    "import numpy as np\n",
    "from numpy import linalg\n",
    "import matplotlib.pyplot as plt\n",
    "from time import time\n",
    "import DataReader as DR"
   ]
  },
  {
   "cell_type": "markdown",
   "metadata": {},
   "source": [
    "The following function, takes training data 'X' and its labels  'y' as parameters. Then, it returns the points from the $first$ $class$  whose minimum distances from the each point belonging the second class are greater than  the predifined lower bound."
   ]
  },
  {
   "cell_type": "code",
   "execution_count": 2,
   "metadata": {},
   "outputs": [],
   "source": [
    "def find_anchors_from_class_0(X,y):\n",
    "    y_u=np.unique(y)\n",
    "    points_of_class1=X[y==y_u[1]]\n",
    "    distances= []\n",
    "    #find all distances\n",
    "    for a in points_of_class1:\n",
    "        distances.append(linalg.norm(X[y== y_u[0]] -a, axis=1, ord=1))\n",
    "    #get minimum distances\n",
    "    distances = np.array(distances)\n",
    "    min_distance= np.min(distances,axis=0)\n",
    "    min_distance = min_distance / np.std(min_distance)\n",
    "   \n",
    "    inds=[]\n",
    "    # get the indicies of the points whose minimum distance is greater than the lower bound\n",
    "    inds.append(min_distance >= np.min(min_distance)+np.std(min_distance)*0.43)\n",
    "    inds.append(min_distance <= np.max(min_distance))\n",
    "    all_inds= np.all(inds,axis=0)\n",
    "    tempX=X[y==y_u[0]]\n",
    "    return  tempX[all_inds]"
   ]
  },
  {
   "cell_type": "markdown",
   "metadata": {},
   "source": [
    "As in the previous case, the following function takes training data 'X' and its labels 'y' as parameters. Then, it finds the points belonging the $second$ $class$ whose minimum distances from the first class of points are greater than the lower bound."
   ]
  },
  {
   "cell_type": "code",
   "execution_count": 3,
   "metadata": {},
   "outputs": [],
   "source": [
    "def find_anchors_from_class_1(X,y):\n",
    "    y_u=np.unique(y)\n",
    "    points_of_class0=X[y==y_u[0]]\n",
    "    distances = []\n",
    "    #find all distances\n",
    "    for a in points_of_class0:\n",
    "        distances.append(linalg.norm(X[y== y_u[1]] - a, axis=1, ord=1))\n",
    "    #get minimum distances\n",
    "    distances = np.array(distances)\n",
    "    min_distance = np.min(distances, axis=0)\n",
    "    min_distance = min_distance / np.std(min_distance)\n",
    "    inds = []\n",
    "    # get the indicies of the points whose minimum distance is greater than the lower bound\n",
    "    inds.append(min_distance >=  np.min(min_distance) + np.std(min_distance) * 0.7)\n",
    "    inds.append(min_distance <= np.max(min_distance))\n",
    "    all_inds = np.all(inds, axis=0)\n",
    "    tempX = X[y == y_u[1]]\n",
    "    return tempX[all_inds]"
   ]
  },
  {
   "cell_type": "markdown",
   "metadata": {},
   "source": [
    "Here, we provide the implementation of the mapping function $\\phi_{1,2}$. This function takes the training data 'X' and a list 'anchors' that contains two  sets of anchor points."
   ]
  },
  {
   "cell_type": "code",
   "execution_count": 4,
   "metadata": {},
   "outputs": [],
   "source": [
    "def map_min_1_2(X,anchors):\n",
    "    temp = []\n",
    "    #begin: argmin \n",
    "    for a in anchors[0]:\n",
    "        temp.append(linalg.norm(X-a,axis=1,ord=1))\n",
    "    temp=np.array(temp)\n",
    "    mins1=np.min(temp,axis=0)\n",
    "    mins1 = mins1 / np.std(mins1)\n",
    "    temp = []\n",
    "    for a in anchors[1]:\n",
    "        temp.append(linalg.norm(X - a, axis=1, ord=1))\n",
    "    temp = np.array(temp)\n",
    "    mins2 = np.min(temp, axis=0)\n",
    "    mins2 = mins2/ np.std(mins2)\n",
    "    nz = [mins1 != 0, mins2 != 0]\n",
    "    d = np.all(nz, axis=0)\n",
    "    mins1[mins1==0]=np.mean( mins1[d])\n",
    "    mins2[mins2 == 0] = np.mean(mins2[d])\n",
    "    #end: argmin\n",
    "    X1=np.hstack((X, mins1.reshape((len(X), 1) )))\n",
    "    return   np.hstack((X1,mins2.reshape((len(X),1))))"
   ]
  },
  {
   "cell_type": "markdown",
   "metadata": {},
   "source": [
    "Here, we get the dataset and then find the sets of anchor points from each class."
   ]
  },
  {
   "cell_type": "code",
   "execution_count": 5,
   "metadata": {},
   "outputs": [],
   "source": [
    "X_train, X_test, y_train, y_test = DR.Phoneme()\n",
    "y_unique = np.unique(y_train)\n",
    "sets_of_anchors = []\n",
    "sets_of_anchors.append(find_anchors_from_class_0(X_train,y_train))\n",
    "sets_of_anchors.append(find_anchors_from_class_1(X_train, y_train))"
   ]
  },
  {
   "cell_type": "markdown",
   "metadata": {},
   "source": [
    "Then, perform training and testing after explicitly mapping the datasets."
   ]
  },
  {
   "cell_type": "code",
   "execution_count": 6,
   "metadata": {},
   "outputs": [],
   "source": [
    "XD= map_min_1_2(X_train,sets_of_anchors)\n",
    "XT= map_min_1_2(X_test,sets_of_anchors)\n",
    "s=time()\n",
    "clf = LinearSVC(C=1, dual=False).fit(XD,y_train)\n",
    "train_time=round(time()-s,4)\n",
    "score_training= accuracy_score(y_train, clf.predict(XD))\n",
    "score_test=round(100*accuracy_score(y_test, clf.predict(XT)),2)\n",
    "score_training= round(100*score_training,2)"
   ]
  },
  {
   "cell_type": "markdown",
   "metadata": {},
   "source": [
    "The following code block plots the results and the last two components of the feature map."
   ]
  },
  {
   "cell_type": "code",
   "execution_count": 7,
   "metadata": {},
   "outputs": [
    {
     "data": {
      "image/png": "[encoded data removed]",
      "text/plain": [
       "<Figure size 432x288 with 1 Axes>"
      ]
     },
     "metadata": {
      "needs_background": "light"
     },
     "output_type": "display_data"
    }
   ],
   "source": [
    "plt.scatter(XD[y_train==y_unique[0]][:, -2], XD[y_train==y_unique[0]][:, -1], c='red', edgecolors='k')\n",
    "plt.scatter(XD[y_train == y_unique[1]][:, -2], XD[y_train == y_unique[1]][:, -1], c='blue', edgecolors='k')\n",
    "plt.xlabel(r'$||x_i-a_i^{(1)}||$')\n",
    "plt.ylabel(r'$||x_i-a_i^{(2)}||$')\n",
    "plt.text(XD[:,-2].max() - 0.5,XD[:,-1].max() - 2, \\\n",
    "         \"Training Acc.   :  %.2f\\nTest Acc.         :  %.2f\\nTraining T.       :  %.3f\" % \\\n",
    "         (score_training,score_test,train_time), size=10,\\\n",
    "         va=\"baseline\", ha=\"right\", multialignment=\"left\", \\\n",
    "         bbox=dict(fc=\"none\"))\n",
    "\n",
    "plt.title('Phoneme')\n",
    "\n",
    "plt.show()"
   ]
  }
 ],
 "metadata": {
  "kernelspec": {
   "display_name": "Python 3",
   "language": "python",
   "name": "python3"
  },
  "language_info": {
   "codemirror_mode": {
    "name": "ipython",
    "version": 3
   },
   "file_extension": ".py",
   "mimetype": "text/x-python",
   "name": "python",
   "nbconvert_exporter": "python",
   "pygments_lexer": "ipython3",
   "version": "3.7.7"
  }
 },
 "nbformat": 4,
 "nbformat_minor": 4
}
